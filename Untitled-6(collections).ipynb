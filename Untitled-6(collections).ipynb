{
 "cells": [
  {
   "cell_type": "markdown",
   "metadata": {},
   "source": [
    "Collections"
   ]
  },
  {
   "cell_type": "markdown",
   "metadata": {},
   "source": [
    "DefaultDict Tutorial"
   ]
  },
  {
   "cell_type": "code",
   "execution_count": null,
   "metadata": {},
   "outputs": [],
   "source": [
    "from collections import defaultdict \n",
    "A = defaultdict(list)\n",
    "\n",
    "n, m = map(int, input().split())\n",
    "\n",
    "for i in range(1, n+1):\n",
    "    A[input()].append(i)\n",
    "    \n",
    "for i in range(m):\n",
    "    b = input()\n",
    "    \n",
    "    if b in A.keys():\n",
    "        print(*A[b])\n",
    "    else:\n",
    "        print(-1)\n"
   ]
  },
  {
   "cell_type": "markdown",
   "metadata": {},
   "source": [
    "Collections.namedtuple()"
   ]
  },
  {
   "cell_type": "code",
   "execution_count": null,
   "metadata": {},
   "outputs": [],
   "source": [
    "n = int(input())\n",
    "column_names = input().split()\n",
    "sum = 0\n",
    "\n",
    "for _ in range(n):\n",
    "    sum += int(input().split()[column_names.index(\"MARKS\")])\n",
    "\n",
    "print(sum/n)\n"
   ]
  },
  {
   "cell_type": "markdown",
   "metadata": {},
   "source": [
    "Collections.OrderedDict()"
   ]
  },
  {
   "cell_type": "code",
   "execution_count": null,
   "metadata": {},
   "outputs": [],
   "source": [
    "n = int(input())\n",
    "dic = {}\n",
    "\n",
    "for i in range(n):\n",
    "    a = input().split()\n",
    "    item = \" \".join(a[:-1])\n",
    "    price = int(a[-1])\n",
    "\n",
    "    dic[item] = price + dic.get(item, 0)\n",
    "\n",
    "for i, j in dic.items():\n",
    "    print(i, j)"
   ]
  },
  {
   "cell_type": "markdown",
   "metadata": {},
   "source": [
    "Collections.deque()"
   ]
  },
  {
   "cell_type": "code",
   "execution_count": null,
   "metadata": {},
   "outputs": [],
   "source": [
    "from collections import deque\n",
    "\n",
    "d = deque()\n",
    "\n",
    "n = int(input())\n",
    "for _ in range(n):\n",
    "    cmdline = input()\n",
    "\n",
    "    cmdargs = cmdline.split(' ')\n",
    "    _fn = getattr(locals()['d'], cmdargs[0])\n",
    "    _fn(*cmdargs[1:])\n",
    "    \n",
    "print(' '.join(map(str,d)))\n"
   ]
  },
  {
   "cell_type": "markdown",
   "metadata": {},
   "source": []
  }
 ],
 "metadata": {
  "language_info": {
   "name": "python"
  },
  "orig_nbformat": 4
 },
 "nbformat": 4,
 "nbformat_minor": 2
}
