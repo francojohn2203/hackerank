{
 "cells": [
  {
   "cell_type": "markdown",
   "metadata": {},
   "source": [
    "Sets"
   ]
  },
  {
   "cell_type": "markdown",
   "metadata": {},
   "source": [
    "Symmetric Difference"
   ]
  },
  {
   "cell_type": "code",
   "execution_count": null,
   "metadata": {},
   "outputs": [],
   "source": [
    "s =set()\n",
    "n = int(input())\n",
    "set1= set(map(int,input().split()))\n",
    "m = int(input())\n",
    "set2= set(map(int,input().split()))\n",
    "for a in set1.difference(set2):\n",
    "    s.add(a)\n",
    "for b in set2.difference(set1):\n",
    "    s.add(b)\n",
    "for i in sorted(s):\n",
    "    print(i)\n"
   ]
  },
  {
   "cell_type": "markdown",
   "metadata": {},
   "source": [
    "Set .add()"
   ]
  },
  {
   "cell_type": "code",
   "execution_count": null,
   "metadata": {},
   "outputs": [],
   "source": [
    "s = set()\n",
    "for _ in range(int(input())): s.add(input())\n",
    "print(len(s))\n"
   ]
  },
  {
   "cell_type": "markdown",
   "metadata": {},
   "source": [
    "Set .discard(), .remove() & .pop()"
   ]
  },
  {
   "cell_type": "code",
   "execution_count": null,
   "metadata": {},
   "outputs": [],
   "source": [
    "n = int(input())\n",
    "s = set(map(int, input().split()))\n",
    "q = int(input())\n",
    "for i in range(q):\n",
    "    w = input().split()\n",
    "    if w[0] == 'pop':\n",
    "        s.pop()\n",
    "    elif w[0] == 'remove':\n",
    "        s.remove(int(w[1]))\n",
    "    else:\n",
    "        s.discard(int(w[1]))\n",
    "print(sum(s))\n"
   ]
  },
  {
   "cell_type": "markdown",
   "metadata": {},
   "source": [
    "Set .union() Operation"
   ]
  },
  {
   "cell_type": "code",
   "execution_count": null,
   "metadata": {},
   "outputs": [],
   "source": [
    "input()\n",
    "s1 = {s for s in input().split()}\n",
    "input()\n",
    "s2 = {s for s in input().split()}\n",
    "print(len(s1.union(s2)))\n"
   ]
  }
 ],
 "metadata": {
  "language_info": {
   "name": "python"
  },
  "orig_nbformat": 4
 },
 "nbformat": 4,
 "nbformat_minor": 2
}
