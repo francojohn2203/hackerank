{
 "cells": [
  {
   "cell_type": "markdown",
   "metadata": {},
   "source": [
    "Itertools"
   ]
  },
  {
   "cell_type": "markdown",
   "metadata": {},
   "source": [
    "itertools.product()"
   ]
  },
  {
   "cell_type": "code",
   "execution_count": null,
   "metadata": {},
   "outputs": [],
   "source": [
    "from itertools import product\n",
    "list_ = []\n",
    "A = list(map(int, input().split()))\n",
    "B = list(map(int, input().split()))\n",
    "list_.append(A)\n",
    "list_.append(B)\n",
    "\n",
    "for i in product(*list_):\n",
    "    print(i, end=' ')\n"
   ]
  },
  {
   "cell_type": "markdown",
   "metadata": {},
   "source": [
    "itertools.permutations()"
   ]
  },
  {
   "cell_type": "code",
   "execution_count": null,
   "metadata": {},
   "outputs": [],
   "source": [
    "import itertools\n",
    "a= list(map(str,input().split()))\n",
    "p=sorted(list(itertools.permutations(a[0],int(a[1]))))\n",
    "for i in p:\n",
    "    print(\"\".join(i))\n"
   ]
  },
  {
   "cell_type": "markdown",
   "metadata": {},
   "source": [
    "itertools.combinations()"
   ]
  },
  {
   "cell_type": "code",
   "execution_count": null,
   "metadata": {},
   "outputs": [],
   "source": [
    "from itertools import combinations\n",
    "s,n = input().split()\n",
    "for i in range(int(n)):\n",
    "    ans=[''.join(j) for j in list(combinations(s,i+1))]\n",
    "    for i in range(len(ans)):\n",
    "        ans[i] = sorted(ans[i])\n",
    "    ans=sorted(ans)\n",
    "    for k in ans:\n",
    "        print(''.join(k))\n"
   ]
  },
  {
   "cell_type": "markdown",
   "metadata": {},
   "source": [
    "itertools.combinations_with_replacement()"
   ]
  },
  {
   "cell_type": "code",
   "execution_count": null,
   "metadata": {},
   "outputs": [],
   "source": [
    "import itertools\n",
    "s, n = input().split()\n",
    "s = [a for a in s]\n",
    "s.sort()\n",
    "a = itertools.combinations_with_replacement(s, int(n))\n",
    "for e in a:\n",
    "    print(''.join(e))\n"
   ]
  }
 ],
 "metadata": {
  "language_info": {
   "name": "python"
  },
  "orig_nbformat": 4
 },
 "nbformat": 4,
 "nbformat_minor": 2
}
